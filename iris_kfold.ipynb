{
 "cells": [
  {
   "cell_type": "code",
   "execution_count": 19,
   "id": "79c69b84",
   "metadata": {},
   "outputs": [],
   "source": [
    "from sklearn.linear_model import LogisticRegression\n",
    "from sklearn.linear_model import LinearRegression\n",
    "from sklearn.svm import SVC\n",
    "from sklearn.ensemble import RandomForestClassifier\n",
    "from sklearn.datasets import load_iris\n",
    "\n",
    "import pandas as pd"
   ]
  },
  {
   "cell_type": "code",
   "execution_count": 20,
   "id": "855b1a9c-72ef-4d51-9a50-76181f174da2",
   "metadata": {},
   "outputs": [
    {
     "data": {
      "text/html": [
       "<div>\n",
       "<style scoped>\n",
       "    .dataframe tbody tr th:only-of-type {\n",
       "        vertical-align: middle;\n",
       "    }\n",
       "\n",
       "    .dataframe tbody tr th {\n",
       "        vertical-align: top;\n",
       "    }\n",
       "\n",
       "    .dataframe thead th {\n",
       "        text-align: right;\n",
       "    }\n",
       "</style>\n",
       "<table border=\"1\" class=\"dataframe\">\n",
       "  <thead>\n",
       "    <tr style=\"text-align: right;\">\n",
       "      <th></th>\n",
       "      <th>sepal length (cm)</th>\n",
       "      <th>sepal width (cm)</th>\n",
       "      <th>petal length (cm)</th>\n",
       "      <th>petal width (cm)</th>\n",
       "    </tr>\n",
       "  </thead>\n",
       "  <tbody>\n",
       "    <tr>\n",
       "      <th>0</th>\n",
       "      <td>5.1</td>\n",
       "      <td>3.5</td>\n",
       "      <td>1.4</td>\n",
       "      <td>0.2</td>\n",
       "    </tr>\n",
       "    <tr>\n",
       "      <th>1</th>\n",
       "      <td>4.9</td>\n",
       "      <td>3.0</td>\n",
       "      <td>1.4</td>\n",
       "      <td>0.2</td>\n",
       "    </tr>\n",
       "    <tr>\n",
       "      <th>2</th>\n",
       "      <td>4.7</td>\n",
       "      <td>3.2</td>\n",
       "      <td>1.3</td>\n",
       "      <td>0.2</td>\n",
       "    </tr>\n",
       "    <tr>\n",
       "      <th>3</th>\n",
       "      <td>4.6</td>\n",
       "      <td>3.1</td>\n",
       "      <td>1.5</td>\n",
       "      <td>0.2</td>\n",
       "    </tr>\n",
       "    <tr>\n",
       "      <th>4</th>\n",
       "      <td>5.0</td>\n",
       "      <td>3.6</td>\n",
       "      <td>1.4</td>\n",
       "      <td>0.2</td>\n",
       "    </tr>\n",
       "  </tbody>\n",
       "</table>\n",
       "</div>"
      ],
      "text/plain": [
       "   sepal length (cm)  sepal width (cm)  petal length (cm)  petal width (cm)\n",
       "0                5.1               3.5                1.4               0.2\n",
       "1                4.9               3.0                1.4               0.2\n",
       "2                4.7               3.2                1.3               0.2\n",
       "3                4.6               3.1                1.5               0.2\n",
       "4                5.0               3.6                1.4               0.2"
      ]
     },
     "execution_count": 20,
     "metadata": {},
     "output_type": "execute_result"
    }
   ],
   "source": [
    "flower = load_iris()\n",
    "column_f = flower.feature_names\n",
    "df = pd.DataFrame(flower.data, columns=column_f)\n",
    "df.head()\n"
   ]
  },
  {
   "cell_type": "code",
   "execution_count": 35,
   "id": "afcecf90-ed6c-41c4-90e5-976e6197fff0",
   "metadata": {},
   "outputs": [],
   "source": [
    "from sklearn.model_selection import StratifiedKFold\n",
    "folds=StratifiedKFold(n_splits=5, shuffle=True, random_state=42)"
   ]
  },
  {
   "cell_type": "code",
   "execution_count": 38,
   "id": "bfa60d34-d139-4fd5-8aa0-8f893f0e154b",
   "metadata": {},
   "outputs": [
    {
     "name": "stderr",
     "output_type": "stream",
     "text": [
      "C:\\ProgramData\\anaconda3\\Lib\\site-packages\\sklearn\\linear_model\\_logistic.py:458: ConvergenceWarning: lbfgs failed to converge (status=1):\n",
      "STOP: TOTAL NO. of ITERATIONS REACHED LIMIT.\n",
      "\n",
      "Increase the number of iterations (max_iter) or scale the data as shown in:\n",
      "    https://scikit-learn.org/stable/modules/preprocessing.html\n",
      "Please also refer to the documentation for alternative solver options:\n",
      "    https://scikit-learn.org/stable/modules/linear_model.html#logistic-regression\n",
      "  n_iter_i = _check_optimize_result(\n"
     ]
    },
    {
     "data": {
      "text/plain": [
       "array([0.96666667, 1.        , 0.93333333, 0.96666667, 1.        ])"
      ]
     },
     "execution_count": 38,
     "metadata": {},
     "output_type": "execute_result"
    }
   ],
   "source": [
    "from sklearn.model_selection import cross_val_score\n",
    "cross_val_score(LogisticRegression(),df,flower.target)"
   ]
  },
  {
   "cell_type": "code",
   "execution_count": 39,
   "id": "3083f09d-26c1-4f0c-8238-fdcc0d2d0895",
   "metadata": {},
   "outputs": [
    {
     "data": {
      "text/plain": [
       "array([0.96666667, 0.96666667, 0.96666667, 0.93333333, 1.        ])"
      ]
     },
     "execution_count": 39,
     "metadata": {},
     "output_type": "execute_result"
    }
   ],
   "source": [
    "cross_val_score(SVC(),df,flower.target)"
   ]
  },
  {
   "cell_type": "code",
   "execution_count": 40,
   "id": "e6efa552-22a9-4c73-ba57-e9f30c3187b1",
   "metadata": {},
   "outputs": [
    {
     "data": {
      "text/plain": [
       "array([0.96666667, 0.96666667, 0.93333333, 0.9       , 1.        ])"
      ]
     },
     "execution_count": 40,
     "metadata": {},
     "output_type": "execute_result"
    }
   ],
   "source": [
    "cross_val_score(RandomForestClassifier(),df,flower.target)"
   ]
  },
  {
   "cell_type": "code",
   "execution_count": 50,
   "id": "3ab268cb-53bd-4ad6-865f-c778f09c9a60",
   "metadata": {},
   "outputs": [],
   "source": [
    "lir=cross_val_score(LinearRegression(),df,flower.target)"
   ]
  },
  {
   "cell_type": "markdown",
   "id": "3e4d7222-2f56-40dc-8900-182dc910c93b",
   "metadata": {},
   "source": [
    "# Used chatgpt for parameter tuning"
   ]
  },
  {
   "cell_type": "code",
   "execution_count": 47,
   "id": "8eb36508-be16-4b3c-90d8-984d4709c560",
   "metadata": {},
   "outputs": [],
   "source": [
    "from sklearn.model_selection import cross_val_score\n",
    "best_lor_scores=cross_val_score(LogisticRegression(max_iter=1000),df,flower.target)"
   ]
  },
  {
   "cell_type": "code",
   "execution_count": 48,
   "id": "b7dd01f4-64be-480d-b23a-e1ec9937f902",
   "metadata": {},
   "outputs": [],
   "source": [
    "# Define SVC with tuned parameters directly\n",
    "best_svc = SVC(C=1.0, kernel='rbf', gamma='scale')\n",
    "# Perform cross-validation\n",
    "best_svc_scores=cross_val_score(best_svc,df,flower.target,cv=kfold)"
   ]
  },
  {
   "cell_type": "code",
   "execution_count": 59,
   "id": "106aad76-a4cc-453a-9373-6555a234a4dd",
   "metadata": {},
   "outputs": [],
   "source": [
    "# Define RandomForestClassifier with tuned parameters directly\n",
    "best_rf = RandomForestClassifier(n_estimators=100, max_depth=None, min_samples_split=2)\n",
    "# Perform cross-validation\n",
    "best_rf_scores = cross_val_score(best_rf, df, flower.target, cv=kfold)\n"
   ]
  },
  {
   "cell_type": "code",
   "execution_count": 51,
   "id": "7c0c0ff3-7154-411d-abc8-854afd2f7c09",
   "metadata": {},
   "outputs": [],
   "source": [
    "def average(numbers):\n",
    "    if not numbers:\n",
    "        return None  \n",
    "    return sum(numbers) / len(numbers)\n"
   ]
  },
  {
   "cell_type": "code",
   "execution_count": 53,
   "id": "9d28d243-6a05-40ea-8107-67343b2cda0b",
   "metadata": {},
   "outputs": [],
   "source": [
    "#calculating average for all ml methods\n",
    "avg_lir=average(lir.tolist())\n",
    "avg_lor=average(best_lor_scores.tolist())\n",
    "avg_svc=average(best_svc_scores.tolist())\n",
    "avg_rf=average(best_rf_scores.tolist())"
   ]
  },
  {
   "cell_type": "code",
   "execution_count": 54,
   "id": "7c660eca-a583-41be-be9e-8b2ab7d9378c",
   "metadata": {},
   "outputs": [
    {
     "name": "stdout",
     "output_type": "stream",
     "text": [
      "average of lir 0.32256072489000853\n"
     ]
    }
   ],
   "source": [
    "print(\"average of lir: \",avg_lir)"
   ]
  },
  {
   "cell_type": "code",
   "execution_count": 55,
   "id": "5d065cd0-261b-4074-8d76-3d2ca4e882fe",
   "metadata": {},
   "outputs": [
    {
     "name": "stdout",
     "output_type": "stream",
     "text": [
      "average of lor:  0.9733333333333334\n"
     ]
    }
   ],
   "source": [
    "print(\"average of lor: \",avg_lor)"
   ]
  },
  {
   "cell_type": "code",
   "execution_count": 56,
   "id": "45a74402-caf5-497c-bd4f-b6afc10522ca",
   "metadata": {},
   "outputs": [
    {
     "name": "stdout",
     "output_type": "stream",
     "text": [
      "average of svc:  0.9666666666666668\n"
     ]
    }
   ],
   "source": [
    "print(\"average of svc: \",avg_svc)"
   ]
  },
  {
   "cell_type": "code",
   "execution_count": 58,
   "id": "146ae857-ff44-4f82-9a69-7afc835666fa",
   "metadata": {},
   "outputs": [
    {
     "name": "stdout",
     "output_type": "stream",
     "text": [
      "average of rf:  0.9600000000000002\n"
     ]
    }
   ],
   "source": [
    "print(\"average of rf: \",avg_rf)"
   ]
  }
 ],
 "metadata": {
  "kernelspec": {
   "display_name": "Python 3 (ipykernel)",
   "language": "python",
   "name": "python3"
  },
  "language_info": {
   "codemirror_mode": {
    "name": "ipython",
    "version": 3
   },
   "file_extension": ".py",
   "mimetype": "text/x-python",
   "name": "python",
   "nbconvert_exporter": "python",
   "pygments_lexer": "ipython3",
   "version": "3.11.7"
  },
  "varInspector": {
   "cols": {
    "lenName": 16,
    "lenType": 16,
    "lenVar": 40
   },
   "kernels_config": {
    "python": {
     "delete_cmd_postfix": "",
     "delete_cmd_prefix": "del ",
     "library": "var_list.py",
     "varRefreshCmd": "print(var_dic_list())"
    },
    "r": {
     "delete_cmd_postfix": ") ",
     "delete_cmd_prefix": "rm(",
     "library": "var_list.r",
     "varRefreshCmd": "cat(var_dic_list()) "
    }
   },
   "types_to_exclude": [
    "module",
    "function",
    "builtin_function_or_method",
    "instance",
    "_Feature"
   ],
   "window_display": false
  }
 },
 "nbformat": 4,
 "nbformat_minor": 5
}
